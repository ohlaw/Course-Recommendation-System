{
 "cells": [
  {
   "cell_type": "markdown",
   "id": "69caa7c6",
   "metadata": {},
   "source": [
    "<div class=\"alert alert-info\">\n",
    "\n",
    "## Project Description\n",
    "\n",
    "As a data analyst, the objective of this project is to analyze and explore Udemy dataset containing information about various online courses. The dataset includes details such as course titles, pricing, enrollment statistics, instructor information, and other relevant attributes. The project aims to gain insights into the online course market, identify popular trends, and understand factors influencing course success.\n",
    "\n",
    "\n",
    "\n",
    "\n",
    "<br>\n",
    "    <b>Data Source:</b> <a href=\"https://www.kaggle.com/datasets/hossaingh/udemy-courses?resource=download&select=Course_info.csv\">Kaggle<a/>\n",
    "<br>\n",
    "    \n",
    "<b>Dataset description</b>  \n",
    "`course_info.csv` — the calendar of marketing events for 2020    \n",
    "* `id`: A unique identifier for each course.\n",
    "* `title`: The title or name of the course.\n",
    "* `is_paid`: A boolean (True/False) indicating whether the course is paid or free.\n",
    "* `price`: The price of the course. If the course is free, the price will be 0.\n",
    "* `headline`: A brief description or headline of the course content.\n",
    "* `num_subscribers`: The number of subscribers or students enrolled in the course.\n",
    "* `avg_rating`: The average rating given by students who have taken the course.\n",
    "* `num_reviews`: The number of reviews the course has received.\n",
    "* `num_comments`: The number of comments posted by students or users about the course.\n",
    "* `num_lectures`: The number of lectures or lessons in the course.\n",
    "* `content_length_min`: The total length of the course content in minutes.\n",
    "* `published_time`: The date and time when the course was initially published.\n",
    "* `last_update_date`: The date when the course was last updated.\n",
    "* `category`: The broad category to which the course belongs (e.g., Lifestyle, Business, Design, etc.).\n",
    "* `subcategory`: The subcategory within the broader category (e.g., Food & Beverage, Entrepreneurship, Web Design, etc.).\n",
    "* `topic`: The specific topic or subject of the course.\n",
    "* `language`: The language in which the course is conducted.\n",
    "* `course_url`: The URL or link to access the course.\n",
    "* `instructor_name`: The name of the course instructor.\n",
    "* `instructor_url`: The URL or link to the instructor's profile.\n",
    "</div>\n",
    "\n",
    "---\n",
    "\n",
    "## Table of Contents\n",
    "\n",
    "<a href=\"#Step-1.-Download-and-prepare-data-for-analysis\">Step 1. Download and prepare data for analysis<a/>\n",
    "* <a href=\"#Load-Libraries\">Load libraries<a/>\n",
    "* <a href=\"#Load-Datasets\">Load datasets<a/>\n",
    "* <a href=\"#Missing-Values-and-Duplicates\">Missing values and duplicates<a/>"
   ]
  },
  {
   "cell_type": "markdown",
   "id": "e9323505",
   "metadata": {},
   "source": [
    "### Load Libraries"
   ]
  },
  {
   "cell_type": "code",
   "execution_count": null,
   "id": "d6c77fb9",
   "metadata": {},
   "outputs": [],
   "source": [
    "# import libraries\n",
    "import pandas as pd\n",
    "import numpy as np\n",
    "import streamlit as st\n",
    "from sklearn.feature_extraction.text import CountVectorizer\n",
    "from sklearn.metrics.pairwise import cosine_similarity"
   ]
  },
  {
   "cell_type": "markdown",
   "id": "cefb2045",
   "metadata": {},
   "source": [
    "### Load Datasets"
   ]
  },
  {
   "cell_type": "code",
   "execution_count": 12,
   "id": "7689c829",
   "metadata": {},
   "outputs": [],
   "source": [
    "# load dataset\n",
    "course_info = pd.read_csv('course_info.csv')\n",
    "comments = pd.read_csv('comments.csv')\n",
    "\n",
    "# create a list of datasets\n",
    "datasets = [course_info, comments]"
   ]
  },
  {
   "cell_type": "code",
   "execution_count": 14,
   "id": "69ba9e93",
   "metadata": {},
   "outputs": [
    {
     "data": {
      "text/plain": [
       "'course_info'"
      ]
     },
     "metadata": {},
     "output_type": "display_data"
    },
    {
     "data": {
      "text/html": [
       "<div>\n",
       "<style scoped>\n",
       "    .dataframe tbody tr th:only-of-type {\n",
       "        vertical-align: middle;\n",
       "    }\n",
       "\n",
       "    .dataframe tbody tr th {\n",
       "        vertical-align: top;\n",
       "    }\n",
       "\n",
       "    .dataframe thead th {\n",
       "        text-align: right;\n",
       "    }\n",
       "</style>\n",
       "<table border=\"1\" class=\"dataframe\">\n",
       "  <thead>\n",
       "    <tr style=\"text-align: right;\">\n",
       "      <th></th>\n",
       "      <th>id</th>\n",
       "      <th>title</th>\n",
       "      <th>is_paid</th>\n",
       "      <th>price</th>\n",
       "      <th>headline</th>\n",
       "      <th>num_subscribers</th>\n",
       "      <th>avg_rating</th>\n",
       "      <th>num_reviews</th>\n",
       "      <th>num_comments</th>\n",
       "      <th>num_lectures</th>\n",
       "      <th>content_length_min</th>\n",
       "      <th>published_time</th>\n",
       "      <th>last_update_date</th>\n",
       "      <th>category</th>\n",
       "      <th>subcategory</th>\n",
       "      <th>topic</th>\n",
       "      <th>language</th>\n",
       "      <th>course_url</th>\n",
       "      <th>instructor_name</th>\n",
       "      <th>instructor_url</th>\n",
       "    </tr>\n",
       "  </thead>\n",
       "  <tbody>\n",
       "    <tr>\n",
       "      <th>0</th>\n",
       "      <td>4715.0</td>\n",
       "      <td>Online Vegan Vegetarian Cooking School</td>\n",
       "      <td>True</td>\n",
       "      <td>24.99</td>\n",
       "      <td>Learn to cook delicious vegan recipes. Filmed ...</td>\n",
       "      <td>2231.0</td>\n",
       "      <td>3.75</td>\n",
       "      <td>134.0</td>\n",
       "      <td>42.0</td>\n",
       "      <td>37.0</td>\n",
       "      <td>1268.0</td>\n",
       "      <td>2010-08-05T22:06:13Z</td>\n",
       "      <td>2020-11-06</td>\n",
       "      <td>Lifestyle</td>\n",
       "      <td>Food &amp; Beverage</td>\n",
       "      <td>Vegan Cooking</td>\n",
       "      <td>English</td>\n",
       "      <td>/course/vegan-vegetarian-cooking-school/</td>\n",
       "      <td>Angela Poch</td>\n",
       "      <td>/user/angelapoch/</td>\n",
       "    </tr>\n",
       "    <tr>\n",
       "      <th>1</th>\n",
       "      <td>1769.0</td>\n",
       "      <td>The Lean Startup Talk at Stanford E-Corner</td>\n",
       "      <td>False</td>\n",
       "      <td>0.00</td>\n",
       "      <td>Debunking Myths of Entrepreneurship A startup ...</td>\n",
       "      <td>26474.0</td>\n",
       "      <td>4.50</td>\n",
       "      <td>709.0</td>\n",
       "      <td>112.0</td>\n",
       "      <td>9.0</td>\n",
       "      <td>88.0</td>\n",
       "      <td>2010-01-12T18:09:46Z</td>\n",
       "      <td>NaN</td>\n",
       "      <td>Business</td>\n",
       "      <td>Entrepreneurship</td>\n",
       "      <td>Lean Startup</td>\n",
       "      <td>English</td>\n",
       "      <td>/course/the-lean-startup-debunking-myths-of-en...</td>\n",
       "      <td>Eric Ries</td>\n",
       "      <td>/user/ericries/</td>\n",
       "    </tr>\n",
       "    <tr>\n",
       "      <th>2</th>\n",
       "      <td>5664.0</td>\n",
       "      <td>How To Become a Vegan, Vegetarian, or Flexitarian</td>\n",
       "      <td>True</td>\n",
       "      <td>19.99</td>\n",
       "      <td>Get the tools you need for a lifestyle change ...</td>\n",
       "      <td>1713.0</td>\n",
       "      <td>4.40</td>\n",
       "      <td>41.0</td>\n",
       "      <td>13.0</td>\n",
       "      <td>14.0</td>\n",
       "      <td>82.0</td>\n",
       "      <td>2010-10-13T18:07:17Z</td>\n",
       "      <td>2019-10-09</td>\n",
       "      <td>Lifestyle</td>\n",
       "      <td>Other Lifestyle</td>\n",
       "      <td>Vegan Cooking</td>\n",
       "      <td>English</td>\n",
       "      <td>/course/see-my-personal-motivation-for-becomin...</td>\n",
       "      <td>Angela Poch</td>\n",
       "      <td>/user/angelapoch/</td>\n",
       "    </tr>\n",
       "    <tr>\n",
       "      <th>3</th>\n",
       "      <td>7723.0</td>\n",
       "      <td>How to Train a Puppy</td>\n",
       "      <td>True</td>\n",
       "      <td>199.99</td>\n",
       "      <td>Train your puppy the right way with Dr. Ian Du...</td>\n",
       "      <td>4988.0</td>\n",
       "      <td>4.80</td>\n",
       "      <td>395.0</td>\n",
       "      <td>88.0</td>\n",
       "      <td>36.0</td>\n",
       "      <td>1511.0</td>\n",
       "      <td>2011-06-20T20:08:38Z</td>\n",
       "      <td>2016-01-13</td>\n",
       "      <td>Lifestyle</td>\n",
       "      <td>Pet Care &amp; Training</td>\n",
       "      <td>Pet Training</td>\n",
       "      <td>English</td>\n",
       "      <td>/course/complete-dunbar-collection/</td>\n",
       "      <td>Ian Dunbar</td>\n",
       "      <td>/user/ian-dunbar/</td>\n",
       "    </tr>\n",
       "    <tr>\n",
       "      <th>4</th>\n",
       "      <td>8157.0</td>\n",
       "      <td>Web Design from the Ground Up</td>\n",
       "      <td>True</td>\n",
       "      <td>159.99</td>\n",
       "      <td>Learn web design online: Everything you need t...</td>\n",
       "      <td>1266.0</td>\n",
       "      <td>4.75</td>\n",
       "      <td>38.0</td>\n",
       "      <td>12.0</td>\n",
       "      <td>38.0</td>\n",
       "      <td>569.0</td>\n",
       "      <td>2011-06-23T18:31:20Z</td>\n",
       "      <td>NaN</td>\n",
       "      <td>Design</td>\n",
       "      <td>Web Design</td>\n",
       "      <td>Web Design</td>\n",
       "      <td>English</td>\n",
       "      <td>/course/web-design-from-the-ground-up/</td>\n",
       "      <td>E Learning Lab</td>\n",
       "      <td>/user/edwin-ang-2/</td>\n",
       "    </tr>\n",
       "  </tbody>\n",
       "</table>\n",
       "</div>"
      ],
      "text/plain": [
       "       id                                              title  is_paid   price  \\\n",
       "0  4715.0             Online Vegan Vegetarian Cooking School     True   24.99   \n",
       "1  1769.0         The Lean Startup Talk at Stanford E-Corner    False    0.00   \n",
       "2  5664.0  How To Become a Vegan, Vegetarian, or Flexitarian     True   19.99   \n",
       "3  7723.0                               How to Train a Puppy     True  199.99   \n",
       "4  8157.0                      Web Design from the Ground Up     True  159.99   \n",
       "\n",
       "                                            headline  num_subscribers  \\\n",
       "0  Learn to cook delicious vegan recipes. Filmed ...           2231.0   \n",
       "1  Debunking Myths of Entrepreneurship A startup ...          26474.0   \n",
       "2  Get the tools you need for a lifestyle change ...           1713.0   \n",
       "3  Train your puppy the right way with Dr. Ian Du...           4988.0   \n",
       "4  Learn web design online: Everything you need t...           1266.0   \n",
       "\n",
       "   avg_rating  num_reviews  num_comments  num_lectures  content_length_min  \\\n",
       "0        3.75        134.0          42.0          37.0              1268.0   \n",
       "1        4.50        709.0         112.0           9.0                88.0   \n",
       "2        4.40         41.0          13.0          14.0                82.0   \n",
       "3        4.80        395.0          88.0          36.0              1511.0   \n",
       "4        4.75         38.0          12.0          38.0               569.0   \n",
       "\n",
       "         published_time last_update_date   category          subcategory  \\\n",
       "0  2010-08-05T22:06:13Z       2020-11-06  Lifestyle      Food & Beverage   \n",
       "1  2010-01-12T18:09:46Z              NaN   Business     Entrepreneurship   \n",
       "2  2010-10-13T18:07:17Z       2019-10-09  Lifestyle      Other Lifestyle   \n",
       "3  2011-06-20T20:08:38Z       2016-01-13  Lifestyle  Pet Care & Training   \n",
       "4  2011-06-23T18:31:20Z              NaN     Design           Web Design   \n",
       "\n",
       "           topic language                                         course_url  \\\n",
       "0  Vegan Cooking  English           /course/vegan-vegetarian-cooking-school/   \n",
       "1   Lean Startup  English  /course/the-lean-startup-debunking-myths-of-en...   \n",
       "2  Vegan Cooking  English  /course/see-my-personal-motivation-for-becomin...   \n",
       "3   Pet Training  English                /course/complete-dunbar-collection/   \n",
       "4     Web Design  English             /course/web-design-from-the-ground-up/   \n",
       "\n",
       "  instructor_name      instructor_url  \n",
       "0     Angela Poch   /user/angelapoch/  \n",
       "1       Eric Ries     /user/ericries/  \n",
       "2     Angela Poch   /user/angelapoch/  \n",
       "3      Ian Dunbar   /user/ian-dunbar/  \n",
       "4  E Learning Lab  /user/edwin-ang-2/  "
      ]
     },
     "metadata": {},
     "output_type": "display_data"
    },
    {
     "data": {
      "text/plain": [
       "'comments'"
      ]
     },
     "metadata": {},
     "output_type": "display_data"
    },
    {
     "data": {
      "text/html": [
       "<div>\n",
       "<style scoped>\n",
       "    .dataframe tbody tr th:only-of-type {\n",
       "        vertical-align: middle;\n",
       "    }\n",
       "\n",
       "    .dataframe tbody tr th {\n",
       "        vertical-align: top;\n",
       "    }\n",
       "\n",
       "    .dataframe thead th {\n",
       "        text-align: right;\n",
       "    }\n",
       "</style>\n",
       "<table border=\"1\" class=\"dataframe\">\n",
       "  <thead>\n",
       "    <tr style=\"text-align: right;\">\n",
       "      <th></th>\n",
       "      <th>id</th>\n",
       "      <th>course_id</th>\n",
       "      <th>rate</th>\n",
       "      <th>date</th>\n",
       "      <th>display_name</th>\n",
       "      <th>comment</th>\n",
       "    </tr>\n",
       "  </thead>\n",
       "  <tbody>\n",
       "    <tr>\n",
       "      <th>0</th>\n",
       "      <td>88962892</td>\n",
       "      <td>3173036</td>\n",
       "      <td>1.0</td>\n",
       "      <td>2021-06-29T18:54:25-07:00</td>\n",
       "      <td>Rahul</td>\n",
       "      <td>I think a beginner needs more than you think.\\...</td>\n",
       "    </tr>\n",
       "    <tr>\n",
       "      <th>1</th>\n",
       "      <td>125535470</td>\n",
       "      <td>4913148</td>\n",
       "      <td>5.0</td>\n",
       "      <td>2022-10-07T11:17:41-07:00</td>\n",
       "      <td>Marlo</td>\n",
       "      <td>Aviva is such a natural teacher and healer/hea...</td>\n",
       "    </tr>\n",
       "    <tr>\n",
       "      <th>2</th>\n",
       "      <td>68767147</td>\n",
       "      <td>3178386</td>\n",
       "      <td>3.5</td>\n",
       "      <td>2020-10-19T06:35:37-07:00</td>\n",
       "      <td>Yamila Andrea</td>\n",
       "      <td>Muy buena la introducción para entender la bas...</td>\n",
       "    </tr>\n",
       "    <tr>\n",
       "      <th>3</th>\n",
       "      <td>125029758</td>\n",
       "      <td>3175814</td>\n",
       "      <td>5.0</td>\n",
       "      <td>2022-09-30T21:13:49-07:00</td>\n",
       "      <td>Jacqueline</td>\n",
       "      <td>This course is the best on Udemy.  This breakd...</td>\n",
       "    </tr>\n",
       "    <tr>\n",
       "      <th>4</th>\n",
       "      <td>76584052</td>\n",
       "      <td>3174896</td>\n",
       "      <td>4.5</td>\n",
       "      <td>2021-01-30T08:45:11-08:00</td>\n",
       "      <td>Anthony</td>\n",
       "      <td>I found this course very helpful. It was full ...</td>\n",
       "    </tr>\n",
       "  </tbody>\n",
       "</table>\n",
       "</div>"
      ],
      "text/plain": [
       "          id  course_id  rate                       date   display_name  \\\n",
       "0   88962892    3173036   1.0  2021-06-29T18:54:25-07:00          Rahul   \n",
       "1  125535470    4913148   5.0  2022-10-07T11:17:41-07:00          Marlo   \n",
       "2   68767147    3178386   3.5  2020-10-19T06:35:37-07:00  Yamila Andrea   \n",
       "3  125029758    3175814   5.0  2022-09-30T21:13:49-07:00     Jacqueline   \n",
       "4   76584052    3174896   4.5  2021-01-30T08:45:11-08:00        Anthony   \n",
       "\n",
       "                                             comment  \n",
       "0  I think a beginner needs more than you think.\\...  \n",
       "1  Aviva is such a natural teacher and healer/hea...  \n",
       "2  Muy buena la introducción para entender la bas...  \n",
       "3  This course is the best on Udemy.  This breakd...  \n",
       "4  I found this course very helpful. It was full ...  "
      ]
     },
     "metadata": {},
     "output_type": "display_data"
    }
   ],
   "source": [
    "def get_df_name(df):\n",
    "    '''This is a function to get the name of dataset'''\n",
    "    name = [x for x in globals() if globals()[x] is df][0]\n",
    "    return name\n",
    "\n",
    "# display the first five rows\n",
    "for dataset in datasets:\n",
    "    display(get_df_name(dataset))\n",
    "    display(dataset.head())"
   ]
  },
  {
   "cell_type": "markdown",
   "id": "56c32d43",
   "metadata": {},
   "source": [
    "## Missing Values and Duplicates"
   ]
  },
  {
   "cell_type": "code",
   "execution_count": 16,
   "id": "31f08ef9",
   "metadata": {},
   "outputs": [
    {
     "data": {
      "text/plain": [
       "'course_info'"
      ]
     },
     "metadata": {},
     "output_type": "display_data"
    },
    {
     "name": "stdout",
     "output_type": "stream",
     "text": [
      "<class 'pandas.core.frame.DataFrame'>\n",
      "RangeIndex: 209734 entries, 0 to 209733\n",
      "Data columns (total 20 columns):\n",
      " #   Column              Non-Null Count   Dtype  \n",
      "---  ------              --------------   -----  \n",
      " 0   id                  209734 non-null  float64\n",
      " 1   title               209734 non-null  object \n",
      " 2   is_paid             209734 non-null  bool   \n",
      " 3   price               209734 non-null  float64\n",
      " 4   headline            209707 non-null  object \n",
      " 5   num_subscribers     209734 non-null  float64\n",
      " 6   avg_rating          209734 non-null  float64\n",
      " 7   num_reviews         209734 non-null  float64\n",
      " 8   num_comments        209734 non-null  float64\n",
      " 9   num_lectures        209734 non-null  float64\n",
      " 10  content_length_min  209734 non-null  float64\n",
      " 11  published_time      209734 non-null  object \n",
      " 12  last_update_date    209597 non-null  object \n",
      " 13  category            209734 non-null  object \n",
      " 14  subcategory         209734 non-null  object \n",
      " 15  topic               208776 non-null  object \n",
      " 16  language            209734 non-null  object \n",
      " 17  course_url          209734 non-null  object \n",
      " 18  instructor_name     209729 non-null  object \n",
      " 19  instructor_url      209307 non-null  object \n",
      "dtypes: bool(1), float64(8), object(11)\n",
      "memory usage: 30.6+ MB\n"
     ]
    },
    {
     "data": {
      "text/plain": [
       "None"
      ]
     },
     "metadata": {},
     "output_type": "display_data"
    },
    {
     "data": {
      "text/plain": [
       "id                      0\n",
       "title                   0\n",
       "is_paid                 0\n",
       "price                   0\n",
       "headline               27\n",
       "num_subscribers         0\n",
       "avg_rating              0\n",
       "num_reviews             0\n",
       "num_comments            0\n",
       "num_lectures            0\n",
       "content_length_min      0\n",
       "published_time          0\n",
       "last_update_date      137\n",
       "category                0\n",
       "subcategory             0\n",
       "topic                 958\n",
       "language                0\n",
       "course_url              0\n",
       "instructor_name         5\n",
       "instructor_url        427\n",
       "dtype: int64"
      ]
     },
     "metadata": {},
     "output_type": "display_data"
    },
    {
     "data": {
      "text/plain": [
       "0"
      ]
     },
     "metadata": {},
     "output_type": "display_data"
    },
    {
     "data": {
      "text/plain": [
       "'comments'"
      ]
     },
     "metadata": {},
     "output_type": "display_data"
    },
    {
     "name": "stdout",
     "output_type": "stream",
     "text": [
      "<class 'pandas.core.frame.DataFrame'>\n",
      "RangeIndex: 9411727 entries, 0 to 9411726\n",
      "Data columns (total 6 columns):\n",
      " #   Column        Dtype  \n",
      "---  ------        -----  \n",
      " 0   id            int64  \n",
      " 1   course_id     int64  \n",
      " 2   rate          float64\n",
      " 3   date          object \n",
      " 4   display_name  object \n",
      " 5   comment       object \n",
      "dtypes: float64(1), int64(2), object(3)\n",
      "memory usage: 430.8+ MB\n"
     ]
    },
    {
     "data": {
      "text/plain": [
       "None"
      ]
     },
     "metadata": {},
     "output_type": "display_data"
    },
    {
     "data": {
      "text/plain": [
       "id                  0\n",
       "course_id           0\n",
       "rate                0\n",
       "date                0\n",
       "display_name    75362\n",
       "comment          6333\n",
       "dtype: int64"
      ]
     },
     "metadata": {},
     "output_type": "display_data"
    },
    {
     "data": {
      "text/plain": [
       "0"
      ]
     },
     "metadata": {},
     "output_type": "display_data"
    }
   ],
   "source": [
    "for dataset in datasets:\n",
    "    display(get_df_name(dataset))\n",
    "    display(dataset.info())\n",
    "    display(dataset.isnull().sum())\n",
    "    display(dataset.duplicated().sum())"
   ]
  },
  {
   "cell_type": "markdown",
   "id": "90afdec1",
   "metadata": {},
   "source": [
    "<b>Conclusion</b>  \n",
    "delete `headline`, `last_update_date`, `topic`, `instructor_name`, `instructor_url`\n",
    "\n",
    "\n",
    "<a href=\"#Table-of-Contents\">Back to top<a/>"
   ]
  },
  {
   "cell_type": "code",
   "execution_count": null,
   "id": "d03bbe38",
   "metadata": {},
   "outputs": [],
   "source": []
  }
 ],
 "metadata": {
  "kernelspec": {
   "display_name": "Python 3",
   "language": "python",
   "name": "python3"
  },
  "language_info": {
   "codemirror_mode": {
    "name": "ipython",
    "version": 3
   },
   "file_extension": ".py",
   "mimetype": "text/x-python",
   "name": "python",
   "nbconvert_exporter": "python",
   "pygments_lexer": "ipython3",
   "version": "3.8.8"
  }
 },
 "nbformat": 4,
 "nbformat_minor": 5
}
